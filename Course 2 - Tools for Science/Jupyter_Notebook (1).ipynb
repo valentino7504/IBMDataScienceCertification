{
 "cells": [
  {
   "cell_type": "markdown",
   "metadata": {},
   "source": [
    "<center>\n",
    "    <img src=\"https://cf-courses-data.s3.us.cloud-object-storage.appdomain.cloud/IBMDeveloperSkillsNetwork-DS0105EN-SkillsNetwork/labs/Module2/images/SN_web_lightmode.png\" width=\"300\" alt=\"cognitiveclass.ai logo\"  />\n",
    "</center>\n"
   ]
  },
  {
   "cell_type": "markdown",
   "metadata": {},
   "source": [
    "#### Add your code below following the instructions given in the course\n"
   ]
  },
  {
   "cell_type": "markdown",
   "metadata": {},
   "source": [
    "#  My Jupyter Notebook on IBM Watson Studio"
   ]
  },
  {
   "cell_type": "markdown",
   "metadata": {},
   "source": [
    "__Edwin Ade__ <br>\n",
    "Aspiring Data Scientist"
   ]
  },
  {
   "cell_type": "markdown",
   "metadata": {},
   "source": [
    "_I am interested in data science because I love to see the impact of data in the modern world, and how we can use data to drive business decisions.I also like it because I love crunching numbers and programming._"
   ]
  },
  {
   "cell_type": "markdown",
   "metadata": {},
   "source": [
    "### The code in the next cell is just meant to add two numbers "
   ]
  },
  {
   "cell_type": "code",
   "execution_count": 4,
   "metadata": {},
   "outputs": [
    {
     "name": "stdout",
     "output_type": "stream",
     "text": [
      "3\n"
     ]
    }
   ],
   "source": [
    "my_first_variable = 1\n",
    "my_second_variable = 2\n",
    "print(my_first_variable + my_second_variable)"
   ]
  },
  {
   "cell_type": "markdown",
   "metadata": {},
   "source": [
    "##### Dream places to visit \n",
    "* Rwanda\n",
    "* Maldives\n",
    "* Japan\n",
    "<hr>\n",
    "My favourite artist is <a href = \"https://en.wikipedia.org/wiki/Kendrick_Lamar\">Kendrick Lamar</a>\n",
    "<br>\n",
    "<strike>I used to love reading, but for some reason I stopped</strike>\n",
    "<br><br>\n",
    "##### My favourite football clubs are:\n",
    "<ol><li>Chelsea</li><li>Barcelona</li><li>Arsenal</li></ol>\n",
    "<br><br>\n",
    "<center><img></center>"
   ]
  }
 ],
 "metadata": {
  "kernelspec": {
   "display_name": "Python",
   "language": "python",
   "name": "conda-env-python-py"
  },
  "language_info": {
   "codemirror_mode": {
    "name": "ipython",
    "version": 3
   },
   "file_extension": ".py",
   "mimetype": "text/x-python",
   "name": "python",
   "nbconvert_exporter": "python",
   "pygments_lexer": "ipython3",
   "version": "3.7.12"
  }
 },
 "nbformat": 4,
 "nbformat_minor": 4
}
